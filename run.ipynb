{
 "cells": [
  {
   "cell_type": "markdown",
   "id": "85e218ba",
   "metadata": {},
   "source": [
    "## Agent-based simulation of runners in a race"
   ]
  },
  {
   "cell_type": "code",
   "execution_count": 12,
   "id": "8f67520b",
   "metadata": {},
   "outputs": [],
   "source": [
    "using Agents, Plots, Random"
   ]
  },
  {
   "cell_type": "code",
   "execution_count": 7,
   "id": "85b8ed83",
   "metadata": {},
   "outputs": [],
   "source": [
    "@agent Runner GridAgent{2} begin\n",
    "    exhaustion::Float64\n",
    "    pace::Int\n",
    "    viewdist::Int\n",
    "end"
   ]
  },
  {
   "cell_type": "markdown",
   "id": "f8b530ed",
   "metadata": {},
   "source": [
    "### Step evolution logic\n",
    "how many lanes ahead should runners be able to see when evaluating weights for each lane?"
   ]
  },
  {
   "cell_type": "code",
   "execution_count": 72,
   "id": "c563a29c",
   "metadata": {},
   "outputs": [
    {
     "data": {
      "text/plain": [
       "getweights (generic function with 1 method)"
      ]
     },
     "execution_count": 72,
     "metadata": {},
     "output_type": "execute_result"
    }
   ],
   "source": [
    "function getweights(runner::Runner, model::ABM)\n",
    "    dim = spacesize(model)\n",
    "    pos = runner.pos\n",
    "    laneweights = zeros(dim[1])\n",
    "\n",
    "    for i in 1:dim[1],\n",
    "        j in range(pos[2]; length=min(runner.viewdist, dim[2]-pos[2]))\n",
    "        laneweights[i] += (0.1\n",
    "            * (length(ids_in_position((i,j), model)) - ((i,j) == pos))\n",
    "            * runner.exhaustion)\n",
    "    end\n",
    "    \n",
    "    waterpoint = getproperty(model, :waterpoint)\n",
    "    if 0 < waterpoint[2] - pos[2] <= runner.viewdist\n",
    "        laneweights[waterpoint[1]] -= 5\n",
    "    end\n",
    "\n",
    "    return laneweights\n",
    "end"
   ]
  },
  {
   "cell_type": "markdown",
   "id": "48604a0e",
   "metadata": {},
   "source": [
    "should we allow runners to move directly to their preferred lane in a single step? (possibly more realistic agility when taking into account that the simulation space is discrete) or make them move one lane at a time? (possibly higher performance, more continuous(?) simulation)"
   ]
  },
  {
   "cell_type": "code",
   "execution_count": 67,
   "id": "6e05f207",
   "metadata": {},
   "outputs": [
    {
     "data": {
      "text/plain": [
       "agent_step! (generic function with 1 method)"
      ]
     },
     "execution_count": 67,
     "metadata": {},
     "output_type": "execute_result"
    }
   ],
   "source": [
    "function agent_step!(runner::Runner, model::ABM)\n",
    "    dim = spacesize(model)\n",
    "    lane, = runner.pos\n",
    "    laneweights = getweights(runner, model)\n",
    "    optlane = all(p -> p == laneweights[1], laneweights) ? lane : argmin(laneweights)\n",
    "\n",
    "    # the debate: jump to or step towards new lane\n",
    "    lanedist = optlane-lane\n",
    "    #delta = (lanedist,\n",
    "    #    lanedist == 0 ? runner.pace : min(floor(Int, runner.pace/abs(lanedist)), 1))\n",
    "    delta = (sign(lanedist), runner.pace)\n",
    "\n",
    "    newpos = runner.pos .+ delta\n",
    "    if newpos[2] > dim[2]\n",
    "        remove_agent!(runner, model)\n",
    "        return\n",
    "    end\n",
    "\n",
    "    move_agent!(runner, newpos, model)\n",
    "end"
   ]
  },
  {
   "cell_type": "code",
   "execution_count": 68,
   "id": "797a2b81",
   "metadata": {},
   "outputs": [
    {
     "data": {
      "text/plain": [
       "model_step! (generic function with 1 method)"
      ]
     },
     "execution_count": 68,
     "metadata": {},
     "output_type": "execute_result"
    }
   ],
   "source": [
    "function model_step!(model::ABM)\n",
    "    dim = spacesize(model)\n",
    "    for i in 1:sum(bitrand(2dim[1]))\n",
    "        pos = (rand(1:dim[1]), 1)\n",
    "        exhaustion = min(randn() + 1, 0)\n",
    "        pace = sum(bitrand(5)) + 1\n",
    "        viewdist = 10\n",
    "\n",
    "        add_agent!(pos, model, exhaustion, pace, viewdist)\n",
    "    end\n",
    "end"
   ]
  },
  {
   "cell_type": "markdown",
   "id": "9d41adce",
   "metadata": {},
   "source": [
    "### Running the simulation"
   ]
  },
  {
   "cell_type": "code",
   "execution_count": 69,
   "id": "07b6a4bb",
   "metadata": {},
   "outputs": [
    {
     "data": {
      "text/plain": [
       "racemodel (generic function with 1 method)"
      ]
     },
     "execution_count": 69,
     "metadata": {},
     "output_type": "execute_result"
    }
   ],
   "source": [
    "function racemodel()\n",
    "    dimensions = (10, 100)\n",
    "    road = GridSpace(dimensions; metric=:manhattan)\n",
    "\n",
    "    properties = Dict(:waterpoint => (dimensions[1], dimensions[2] / 2))\n",
    "    model = ABM(Runner, road; properties)\n",
    "\n",
    "    for i in 1:sum(bitrand(2dimensions[1]))\n",
    "        pos = (rand(1:dimensions[1]), 1)\n",
    "        exhaustion = min(randn() + 1, 0)\n",
    "        pace = sum(bitrand(5)) + 1\n",
    "        viewdist = 10\n",
    "\n",
    "        add_agent!(pos, model, exhaustion, pace, viewdist)\n",
    "    end\n",
    "\n",
    "    return model\n",
    "end"
   ]
  },
  {
   "cell_type": "code",
   "execution_count": 73,
   "id": "9b5d2be8",
   "metadata": {
    "scrolled": true
   },
   "outputs": [
    {
     "data": {
      "text/plain": [
       "StandardABM with 11 agents of type Runner\n",
       " space: GridSpace with size (10, 100), metric=manhattan, periodic=true\n",
       " scheduler: fastest\n",
       " properties: waterpoint"
      ]
     },
     "execution_count": 73,
     "metadata": {},
     "output_type": "execute_result"
    }
   ],
   "source": [
    "model = racemodel()"
   ]
  },
  {
   "cell_type": "markdown",
   "id": "6ef9940c",
   "metadata": {},
   "source": [
    "### Visualisation"
   ]
  },
  {
   "cell_type": "code",
   "execution_count": null,
   "id": "90484c15",
   "metadata": {},
   "outputs": [],
   "source": [
    "@gif for i in 1:50\n",
    "    step!(model, agent_step!, model_step!, 1)\n",
    "\n",
    "    agentcounts = map(p -> length(ids_in_position(p, model)), positions(model))\n",
    "    heatmap(agentcounts, aspect_ratio = :equal)\n",
    "end"
   ]
  }
 ],
 "metadata": {
  "kernelspec": {
   "display_name": "Julia 1.8.5",
   "language": "julia",
   "name": "julia-1.8"
  },
  "language_info": {
   "file_extension": ".jl",
   "mimetype": "application/julia",
   "name": "julia",
   "version": "1.8.5"
  }
 },
 "nbformat": 4,
 "nbformat_minor": 5
}
