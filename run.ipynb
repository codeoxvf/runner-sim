{
 "cells": [
  {
   "cell_type": "markdown",
   "id": "85e218ba",
   "metadata": {},
   "source": [
    "## Agent-based simulation of runners in a race"
   ]
  },
  {
   "cell_type": "code",
   "execution_count": 1,
   "id": "8f67520b",
   "metadata": {},
   "outputs": [],
   "source": [
    "using Agents, Plots"
   ]
  },
  {
   "cell_type": "code",
   "execution_count": 2,
   "id": "85b8ed83",
   "metadata": {},
   "outputs": [],
   "source": [
    "@agent Runner GridAgent{2} begin\n",
    "    exhaustion::Float64\n",
    "    pace::Int\n",
    "    viewdist::Int\n",
    "end"
   ]
  },
  {
   "cell_type": "markdown",
   "id": "f8b530ed",
   "metadata": {},
   "source": [
    "### Step evolution logic\n",
    "how many lanes ahead should runners be able to see when evaluating weights for each lane?"
   ]
  },
  {
   "cell_type": "code",
   "execution_count": 68,
   "id": "c563a29c",
   "metadata": {},
   "outputs": [
    {
     "data": {
      "text/plain": [
       "getweights (generic function with 1 method)"
      ]
     },
     "execution_count": 68,
     "metadata": {},
     "output_type": "execute_result"
    }
   ],
   "source": [
    "function getweights(runner::Runner, model::ABM)\n",
    "    dim = spacesize(model)\n",
    "    pos = runner.pos\n",
    "    laneweights = zeros(dim[1])\n",
    "\n",
    "    for i in 1:dim[1],\n",
    "        j in range(pos[2]; length=min(runner.viewdist, dim[2]-pos[2]))\n",
    "        laneweights[i] += (0.1\n",
    "            * (length(ids_in_position((i,j), model)) - ((i,j) == pos))\n",
    "            * runner.exhaustion)\n",
    "    end\n",
    "\n",
    "    return laneweights\n",
    "end"
   ]
  },
  {
   "cell_type": "markdown",
   "id": "48604a0e",
   "metadata": {},
   "source": [
    "should we allow runners to move directly to their preferred lane in a single step? (possibly more realistic agility when taking into account that the simulation space is discrete) or make them move one lane at a time? (possibly higher performance, more continuous(?) simulation)"
   ]
  },
  {
   "cell_type": "code",
   "execution_count": 71,
   "id": "6e05f207",
   "metadata": {},
   "outputs": [
    {
     "data": {
      "text/plain": [
       "agent_step! (generic function with 1 method)"
      ]
     },
     "execution_count": 71,
     "metadata": {},
     "output_type": "execute_result"
    }
   ],
   "source": [
    "function agent_step!(runner::Runner, model::ABM)\n",
    "    lane, = runner.pos\n",
    "    laneweights = getweights(runner, model)\n",
    "    optlane = all(p -> p == laneweights[1], laneweights) ? lane : argmin(laneweights)\n",
    "\n",
    "    # the debate: jump to or step towards new lane\n",
    "    lanedist = optlane-lane\n",
    "    delta = (lanedist,\n",
    "        lanedist == 0 ? runner.pace : min(floor(Int, runner.pace/abs(lanedist)), 1))\n",
    "    #delta = (sign(lanedist), runner.pace)\n",
    "\n",
    "    move_agent!(runner, runner.pos .+ delta, model)\n",
    "end"
   ]
  },
  {
   "cell_type": "markdown",
   "id": "9d41adce",
   "metadata": {},
   "source": [
    "### Running the simulation"
   ]
  },
  {
   "cell_type": "code",
   "execution_count": 29,
   "id": "07b6a4bb",
   "metadata": {},
   "outputs": [
    {
     "data": {
      "text/plain": [
       "racemodel (generic function with 1 method)"
      ]
     },
     "execution_count": 29,
     "metadata": {},
     "output_type": "execute_result"
    }
   ],
   "source": [
    "function racemodel()\n",
    "    dimensions = (10, 100)\n",
    "    road = GridSpace(dimensions; metric=:manhattan)\n",
    "\n",
    "    properties = Dict(\"water_point\" => (dimensions[1], dimensions[2] / 2))\n",
    "    model = ABM(Runner, road; properties)\n",
    "\n",
    "    exhaustion::Float64 = 0.2\n",
    "    pace = 4\n",
    "    viewdist = 10\n",
    "    add_agent!((5, 1), model, exhaustion, pace, viewdist)\n",
    "\n",
    "    return model\n",
    "end"
   ]
  },
  {
   "cell_type": "code",
   "execution_count": 72,
   "id": "9b5d2be8",
   "metadata": {
    "scrolled": true
   },
   "outputs": [
    {
     "data": {
      "text/plain": [
       "StandardABM with 1 agents of type Runner\n",
       " space: GridSpace with size (10, 100), metric=manhattan, periodic=true\n",
       " scheduler: fastest\n",
       " properties: water_point"
      ]
     },
     "execution_count": 72,
     "metadata": {},
     "output_type": "execute_result"
    }
   ],
   "source": [
    "model = racemodel()"
   ]
  },
  {
   "cell_type": "markdown",
   "id": "6ef9940c",
   "metadata": {},
   "source": [
    "### Visualisation"
   ]
  },
  {
   "cell_type": "code",
   "execution_count": 73,
   "id": "90484c15",
   "metadata": {},
   "outputs": [
    {
     "name": "stderr",
     "output_type": "stream",
     "text": [
      "\u001b[36m\u001b[1m[ \u001b[22m\u001b[39m\u001b[36m\u001b[1mInfo: \u001b[22m\u001b[39mSaved animation to /home/codeo/stats/code/tmp.gif\n"
     ]
    },
    {
     "data": {
      "text/html": [
       "<img src=\"data:image/gif;base64,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\" />"
      ],
      "text/plain": [
       "Plots.AnimatedGif(\"/home/codeo/stats/code/tmp.gif\")"
      ]
     },
     "execution_count": 73,
     "metadata": {},
     "output_type": "execute_result"
    }
   ],
   "source": [
    "@gif for i in 1:20\n",
    "    step!(model, agent_step!, 1)\n",
    "\n",
    "    agentcounts = map(p -> length(ids_in_position(p, model)), positions(model))\n",
    "    heatmap(agentcounts, aspect_ratio = :equal)\n",
    "end"
   ]
  }
 ],
 "metadata": {
  "kernelspec": {
   "display_name": "Julia 1.8.5",
   "language": "julia",
   "name": "julia-1.8"
  },
  "language_info": {
   "file_extension": ".jl",
   "mimetype": "application/julia",
   "name": "julia",
   "version": "1.8.5"
  }
 },
 "nbformat": 4,
 "nbformat_minor": 5
}
